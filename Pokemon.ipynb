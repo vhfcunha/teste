{
  "nbformat": 4,
  "nbformat_minor": 0,
  "metadata": {
    "colab": {
      "name": "Pokemon.ipynb",
      "provenance": [],
      "collapsed_sections": [],
      "authorship_tag": "ABX9TyMhK73pppNNFTcWEMpYeHnF",
      "include_colab_link": true
    },
    "kernelspec": {
      "name": "python3",
      "display_name": "Python 3"
    }
  },
  "cells": [
    {
      "cell_type": "markdown",
      "metadata": {
        "id": "view-in-github",
        "colab_type": "text"
      },
      "source": [
        "<a href=\"https://colab.research.google.com/github/vhfcunha/teste/blob/master/Pokemon.ipynb\" target=\"_parent\"><img src=\"https://colab.research.google.com/assets/colab-badge.svg\" alt=\"Open In Colab\"/></a>"
      ]
    },
    {
      "cell_type": "code",
      "metadata": {
        "id": "-bDX6xfhsuOT",
        "colab_type": "code",
        "colab": {
          "base_uri": "https://localhost:8080/",
          "height": 156
        },
        "outputId": "10f59d4c-a7c6-424e-d30c-0ff9b05927bf"
      },
      "source": [
        "import pandas as pd\n",
        "import os\n",
        "# Verifica se o arquivo já existe na instância atual.  Se não, faz download do github\n",
        "if not os.path.exists('pandas/pokemon_data.csv'):\n",
        "    print(\"Diretório ainda não existe!\")\n",
        "    print(\"Obtendo dados do github...\")\n",
        "\n",
        "    !git clone https://github.com/KeithGalli/pandas.git\n",
        "      \n",
        "print('O diretório baixado contém:\\n',os.listdir('pandas/'))\n",
        "df = pd.read_csv('pandas/pokemon_data.csv')\n",
        "print(df.head(3))"
      ],
      "execution_count": 7,
      "outputs": [
        {
          "output_type": "stream",
          "text": [
            "O diretório baixado contém:\n",
            " ['pokemon_data.txt', 'analysis.py', '.git', 'pokemon_data.xlsx', 'README.md', 'pokemon_data.csv', 'Pandas Data Science Tutorial.ipynb']\n",
            "   #       Name Type 1  Type 2  ...  Sp. Def  Speed  Generation  Legendary\n",
            "0  1  Bulbasaur  Grass  Poison  ...       65     45           1      False\n",
            "1  2    Ivysaur  Grass  Poison  ...       80     60           1      False\n",
            "2  3   Venusaur  Grass  Poison  ...      100     80           1      False\n",
            "\n",
            "[3 rows x 12 columns]\n"
          ],
          "name": "stdout"
        }
      ]
    }
  ]
}